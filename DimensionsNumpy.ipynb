{
 "cells": [
  {
   "cell_type": "code",
   "execution_count": 1,
   "id": "5490edd2",
   "metadata": {},
   "outputs": [],
   "source": [
    "import numpy as np"
   ]
  },
  {
   "cell_type": "code",
   "execution_count": 3,
   "id": "68f6ac01",
   "metadata": {},
   "outputs": [],
   "source": [
    "scalar = np.array(42)"
   ]
  },
  {
   "cell_type": "code",
   "execution_count": 5,
   "id": "45620149",
   "metadata": {},
   "outputs": [
    {
     "name": "stdout",
     "output_type": "stream",
     "text": [
      "42\n"
     ]
    },
    {
     "data": {
      "text/plain": [
       "0"
      ]
     },
     "execution_count": 5,
     "metadata": {},
     "output_type": "execute_result"
    }
   ],
   "source": [
    "print(scalar)\n",
    "scalar.ndim"
   ]
  },
  {
   "cell_type": "code",
   "execution_count": 6,
   "id": "7178feef",
   "metadata": {},
   "outputs": [
    {
     "name": "stdout",
     "output_type": "stream",
     "text": [
      "[1 2 3]\n"
     ]
    },
    {
     "data": {
      "text/plain": [
       "1"
      ]
     },
     "execution_count": 6,
     "metadata": {},
     "output_type": "execute_result"
    }
   ],
   "source": [
    "vector = np.array([1,2,3])\n",
    "print(vector)\n",
    "vector.ndim"
   ]
  },
  {
   "cell_type": "code",
   "execution_count": 7,
   "id": "eaf218cc",
   "metadata": {},
   "outputs": [
    {
     "name": "stdout",
     "output_type": "stream",
     "text": [
      "[[ 1  2  3]\n",
      " [ 1  2  3]\n",
      " [ 4  5  6]\n",
      " [ 7  8  9]\n",
      " [ 0  2 45]]\n"
     ]
    },
    {
     "data": {
      "text/plain": [
       "2"
      ]
     },
     "execution_count": 7,
     "metadata": {},
     "output_type": "execute_result"
    }
   ],
   "source": [
    "matrix = np.array([[1,2,3],[1,2,3],[4,5,6],[7,8,9],[0,2,45]])\n",
    "print(matrix)\n",
    "matrix.ndim"
   ]
  },
  {
   "cell_type": "code",
   "execution_count": 10,
   "id": "a94d1998",
   "metadata": {},
   "outputs": [
    {
     "name": "stdout",
     "output_type": "stream",
     "text": [
      "[[[ 1  2  3]\n",
      "  [ 1  2  3]\n",
      "  [ 4  5  6]\n",
      "  [ 7  8  9]\n",
      "  [ 0  2 45]]\n",
      "\n",
      " [[ 1  2  3]\n",
      "  [ 1  2  3]\n",
      "  [ 4  5  6]\n",
      "  [ 7  8  9]\n",
      "  [ 0  2 45]]]\n"
     ]
    },
    {
     "data": {
      "text/plain": [
       "3"
      ]
     },
     "execution_count": 10,
     "metadata": {},
     "output_type": "execute_result"
    }
   ],
   "source": [
    "tensor = np.array([[[1,2,3],[1,2,3],[4,5,6],[7,8,9],[0,2,45]],[[1,2,3],[1,2,3],[4,5,6],[7,8,9],[0,2,45]]])\n",
    "print(tensor)\n",
    "tensor.ndim"
   ]
  },
  {
   "cell_type": "markdown",
   "id": "183ddc5a",
   "metadata": {},
   "source": [
    "## Agregar o eliminar dimensiones"
   ]
  },
  {
   "cell_type": "code",
   "execution_count": 12,
   "id": "cc51f9f4",
   "metadata": {},
   "outputs": [
    {
     "name": "stdout",
     "output_type": "stream",
     "text": [
      "[[[[[[[[[[1 2 3]]]]]]]]]]\n"
     ]
    },
    {
     "data": {
      "text/plain": [
       "10"
      ]
     },
     "execution_count": 12,
     "metadata": {},
     "output_type": "execute_result"
    }
   ],
   "source": [
    "vector = np.array([1,2,3], ndmin=10)\n",
    "print(vector)\n",
    "vector.ndim"
   ]
  },
  {
   "cell_type": "code",
   "execution_count": 16,
   "id": "d7b91ea7",
   "metadata": {},
   "outputs": [
    {
     "name": "stdout",
     "output_type": "stream",
     "text": [
      "[[1 2 3]]\n"
     ]
    },
    {
     "data": {
      "text/plain": [
       "2"
      ]
     },
     "execution_count": 16,
     "metadata": {},
     "output_type": "execute_result"
    }
   ],
   "source": [
    "# Para este caso axis=0 referencia a filas (eje X) y columnas (eje Y)\n",
    "expand = np.expand_dims(np.array([1,2,3]), axis=0)\n",
    "print(expand)\n",
    "expand.ndim"
   ]
  },
  {
   "cell_type": "code",
   "execution_count": 18,
   "id": "10f0028d",
   "metadata": {},
   "outputs": [
    {
     "name": "stdout",
     "output_type": "stream",
     "text": [
      "[[[[[[[[[[1 2 3]]]]]]]]]] 10\n",
      "[1 2 3] 1\n"
     ]
    }
   ],
   "source": [
    "print(vector, vector.ndim)\n",
    "vector_2 = np.squeeze(vector)\n",
    "print(vector_2, vector_2.ndim)"
   ]
  },
  {
   "cell_type": "code",
   "execution_count": 27,
   "id": "6b2f7e06",
   "metadata": {},
   "outputs": [
    {
     "name": "stdout",
     "output_type": "stream",
     "text": [
      "[[[[['1' '2' '3']\n",
      "    ['1' '2' '3']\n",
      "    ['1' '2' '3']]\n",
      "\n",
      "   [['4' '5' '6']\n",
      "    ['4' '5' '6']\n",
      "    ['4' '5' '6']]\n",
      "\n",
      "   [['7' '8' '9']\n",
      "    ['7' '8' '9']\n",
      "    ['7' '8' '9']]\n",
      "\n",
      "   [['a' 'b' 'c']\n",
      "    ['d' 'e' 'f']\n",
      "    ['g' 'h' 'i']]]]]\n"
     ]
    },
    {
     "data": {
      "text/plain": [
       "5"
      ]
     },
     "execution_count": 27,
     "metadata": {},
     "output_type": "execute_result"
    }
   ],
   "source": [
    "tensor_5d = np.array([[[[[1,2,3],[1,2,3],[1,2,3]],[[4,5,6],[4,5,6],[4,5,6]],[[7,8,9],[7,8,9],[7,8,9]],[['a','b','c'],['d','e','f'],['g','h','i']]]]])\n",
    "print(tensor_5d)\n",
    "tensor_5d.ndim"
   ]
  },
  {
   "cell_type": "code",
   "execution_count": 29,
   "id": "4904e7ae",
   "metadata": {},
   "outputs": [
    {
     "name": "stdout",
     "output_type": "stream",
     "text": [
      "[[[[[['1' '2' '3']\n",
      "     ['1' '2' '3']\n",
      "     ['1' '2' '3']]\n",
      "\n",
      "    [['4' '5' '6']\n",
      "     ['4' '5' '6']\n",
      "     ['4' '5' '6']]\n",
      "\n",
      "    [['7' '8' '9']\n",
      "     ['7' '8' '9']\n",
      "     ['7' '8' '9']]\n",
      "\n",
      "    [['a' 'b' 'c']\n",
      "     ['d' 'e' 'f']\n",
      "     ['g' 'h' 'i']]]]]]\n"
     ]
    },
    {
     "data": {
      "text/plain": [
       "6"
      ]
     },
     "execution_count": 29,
     "metadata": {},
     "output_type": "execute_result"
    }
   ],
   "source": [
    "expand_6d = np.expand_dims(tensor_5d, axis=0)\n",
    "print(expand_6d)\n",
    "expand_6d.ndim"
   ]
  },
  {
   "cell_type": "code",
   "execution_count": 30,
   "id": "20e24528",
   "metadata": {},
   "outputs": [
    {
     "name": "stdout",
     "output_type": "stream",
     "text": [
      "[[[[[['1' '2' '3']\n",
      "     ['1' '2' '3']\n",
      "     ['1' '2' '3']]\n",
      "\n",
      "    [['4' '5' '6']\n",
      "     ['4' '5' '6']\n",
      "     ['4' '5' '6']]\n",
      "\n",
      "    [['7' '8' '9']\n",
      "     ['7' '8' '9']\n",
      "     ['7' '8' '9']]\n",
      "\n",
      "    [['a' 'b' 'c']\n",
      "     ['d' 'e' 'f']\n",
      "     ['g' 'h' 'i']]]]]] 6\n",
      "[[['1' '2' '3']\n",
      "  ['1' '2' '3']\n",
      "  ['1' '2' '3']]\n",
      "\n",
      " [['4' '5' '6']\n",
      "  ['4' '5' '6']\n",
      "  ['4' '5' '6']]\n",
      "\n",
      " [['7' '8' '9']\n",
      "  ['7' '8' '9']\n",
      "  ['7' '8' '9']]\n",
      "\n",
      " [['a' 'b' 'c']\n",
      "  ['d' 'e' 'f']\n",
      "  ['g' 'h' 'i']]] 3\n"
     ]
    }
   ],
   "source": [
    "print(expand_6d, expand_6d.ndim)\n",
    "tensor_origin = np.squeeze(expand_6d)\n",
    "print(tensor_origin, tensor_origin.ndim)"
   ]
  }
 ],
 "metadata": {
  "kernelspec": {
   "display_name": "Python 3 (ipykernel)",
   "language": "python",
   "name": "python3"
  },
  "language_info": {
   "codemirror_mode": {
    "name": "ipython",
    "version": 3
   },
   "file_extension": ".py",
   "mimetype": "text/x-python",
   "name": "python",
   "nbconvert_exporter": "python",
   "pygments_lexer": "ipython3",
   "version": "3.9.7"
  }
 },
 "nbformat": 4,
 "nbformat_minor": 5
}
